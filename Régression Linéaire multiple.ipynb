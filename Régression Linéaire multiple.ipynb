{
 "cells": [
  {
   "cell_type": "code",
   "execution_count": 33,
   "metadata": {},
   "outputs": [
    {
     "data": {
      "text/plain": [
       "Index(['Id', 'type', 'prix', 'cylindree', 'puissance', 'poids', 'conso'], dtype='object')"
      ]
     },
     "execution_count": 33,
     "metadata": {},
     "output_type": "execute_result"
    }
   ],
   "source": [
    "import pandas as pd\n",
    "import matplotlib.pyplot as plt\n",
    "import numpy as np\n",
    "import seaborn as sns\n",
    "from sklearn import linear_model\n",
    "from sklearn.linear_model import LinearRegression\n",
    "\n",
    "df = pd.read_excel(\"cars.xlsx\")\n",
    "\n",
    "\n",
    "\n",
    "df.head(6)\n"
   ]
  },
  {
   "cell_type": "code",
   "execution_count": 34,
   "metadata": {},
   "outputs": [
    {
     "data": {
      "text/plain": [
       "Index(['Id', 'type', 'prix', 'cylindree', 'puissance', 'poids', 'conso'], dtype='object')"
      ]
     },
     "execution_count": 34,
     "metadata": {},
     "output_type": "execute_result"
    }
   ],
   "source": [
    "# les variables\n",
    "df.keys()"
   ]
  },
  {
   "cell_type": "code",
   "execution_count": 18,
   "metadata": {},
   "outputs": [
    {
     "name": "stdout",
     "output_type": "stream",
     "text": [
      "Coeficient determination: \n",
      " 0.9264320565625961\n",
      "Intercept: \n",
      " -24.163623713709967\n",
      "Slope: \n",
      " [0.05791742]\n"
     ]
    }
   ],
   "source": [
    "x1 = np.array(df[\"cylindree\"]).reshape((-1,1))\n",
    "y1 = df['puissance']\n",
    "\n",
    "model = LinearRegression()\n",
    "results = model.fit(x1,y1)\n",
    "\n",
    "print(\"Coeficient determination: \\n\", results.score(x1, y1))\n",
    "print(\"Intercept: \\n\", results.intercept_)\n",
    "print(\"Slope: \\n\", results.coef_)"
   ]
  },
  {
   "cell_type": "code",
   "execution_count": 25,
   "metadata": {},
   "outputs": [
    {
     "data": {
      "image/png": "[encoded data removed]",
      "text/plain": [
       "<Figure size 432x288 with 1 Axes>"
      ]
     },
     "metadata": {
      "needs_background": "light"
     },
     "output_type": "display_data"
    }
   ],
   "source": [
    "# Verification Graphique\n",
    "\n",
    "def Yy(m, b, x):\n",
    "    return m*x + b;\n",
    "\n",
    "Xmodel = range(1000,6000, 100)\n",
    "Ymodel = Yy(results.coef_, results.intercept_,  Xmodel)\n",
    "\n",
    "#plt.figure(figsize=(8, 6))\n",
    "plt.plot(Xmodel, Yy(results.coef_, results.intercept_,  Xmodel), 'b-', label='Model')\n",
    "plt.plot(df['cylindree'], df['puissance'], 'g.', label='Real samples')\n",
    "plt.grid(color='gray', linestyle='--', linewidth=1)\n",
    "plt.ylabel(\"Puissance\")\n",
    "plt.xlabel(\"Cylindree\")\n",
    "plt.title('Comparative model vs real data - fitting')\n",
    "plt.legend(loc='best')\n",
    "plt.show()"
   ]
  },
  {
   "cell_type": "code",
   "execution_count": 27,
   "metadata": {},
   "outputs": [
    {
     "name": "stdout",
     "output_type": "stream",
     "text": [
      "Results summary: \n",
      "                             OLS Regression Results                            \n",
      "==============================================================================\n",
      "Dep. Variable:              puissance   R-squared:                       0.926\n",
      "Model:                            OLS   Adj. R-squared:                  0.924\n",
      "Method:                 Least Squares   F-statistic:                     365.2\n",
      "Date:                Mon, 07 Dec 2020   Prob (F-statistic):           5.62e-18\n",
      "Time:                        12:35:17   Log-Likelihood:                -134.44\n",
      "No. Observations:                  31   AIC:                             272.9\n",
      "Df Residuals:                      29   BIC:                             275.7\n",
      "Df Model:                           1                                         \n",
      "Covariance Type:            nonrobust                                         \n",
      "==============================================================================\n",
      "                 coef    std err          t      P>|t|      [0.025      0.975]\n",
      "------------------------------------------------------------------------------\n",
      "Intercept    -24.1636      7.216     -3.349      0.002     -38.922      -9.406\n",
      "cylindree      0.0579      0.003     19.110      0.000       0.052       0.064\n",
      "==============================================================================\n",
      "Omnibus:                       23.288   Durbin-Watson:                   2.288\n",
      "Prob(Omnibus):                  0.000   Jarque-Bera (JB):               52.439\n",
      "Skew:                           1.519   Prob(JB):                     4.10e-12\n",
      "Kurtosis:                       8.601   Cond. No.                     5.00e+03\n",
      "==============================================================================\n",
      "\n",
      "Warnings:\n",
      "[1] Standard Errors assume that the covariance matrix of the errors is correctly specified.\n",
      "[2] The condition number is large,  5e+03. This might indicate that there are\n",
      "strong multicollinearity or other numerical problems.\n"
     ]
    }
   ],
   "source": [
    "#Verification avec la fontion statmodels\n",
    "from statsmodels.formula.api import ols\n",
    "\n",
    "model1 = ols('puissance ~ cylindree', data=df).fit()\n",
    "\n",
    "print(\"Results summary: \\n\", model1.summary())"
   ]
  },
  {
   "cell_type": "code",
   "execution_count": 31,
   "metadata": {},
   "outputs": [
    {
     "name": "stdout",
     "output_type": "stream",
     "text": [
      "    Real Measured Puissance  Predicted Puissance\n",
      "0                        32            24.834515\n",
      "1                        39            33.348376\n",
      "2                        29            27.904138\n",
      "3                        44            56.341592\n",
      "4                        33            45.047695\n",
      "5                        55            52.924465\n",
      "6                       300           322.587980\n",
      "7                       209           137.368065\n",
      "8                        74            68.330499\n",
      "9                        74            77.828956\n",
      "10                      101           101.227594\n",
      "11                       85            90.686623\n",
      "12                       85            90.744541\n",
      "13                       89            91.555385\n",
      "14                       54            56.341592\n",
      "15                       66            56.689097\n",
      "16                      106           116.865298\n",
      "17                       55            47.769814\n",
      "18                      107           147.966953\n",
      "19                      150           147.156110\n",
      "20                      122           120.456178\n",
      "21                       66            91.555385\n",
      "22                      125           120.398261\n",
      "23                       89            91.555385\n",
      "24                       85            90.744541\n",
      "25                       97           117.039050\n",
      "26                       32            13.946040\n",
      "27                      325           292.876342\n",
      "28                       65            67.345903\n",
      "29                       92            91.497467\n",
      "30                      125           119.066160\n",
      "Erreur quadratique moyenne:  18.50177554050939\n",
      "Erreur moyenne en valeur absolu:  11.318353116666065\n",
      "R2:  0.9264320565625961\n"
     ]
    }
   ],
   "source": [
    "\n",
    "from sklearn.metrics import mean_squared_error, mean_absolute_error, r2_score\n",
    "\n",
    "\n",
    "Yreal = df['puissance']\n",
    "Ypredicted = Yy(results.coef_, results.intercept_,  df['cylindree'])\n",
    " \n",
    "model_compare = pd.concat([Ytrue, Ypredicted])\n",
    "\n",
    "data = [Yreal, Ypredicted]\n",
    "\n",
    "headers = [\"Real Measured Puissance\", \"Predicted Puissance\"]\n",
    "\n",
    "df2 = pd.concat(data, axis=1, keys=headers)\n",
    "print(df2)\n",
    "\n",
    "print(\"Erreur quadratique moyenne: \", np.sqrt(mean_squared_error(Yreal, Ypredicted)))\n",
    "print(\"Erreur moyenne en valeur absolu: \", mean_absolute_error(Yreal, Ypredicted))\n",
    "print(\"R2: \", r2_score(Yreal, Ypredicted))"
   ]
  },
  {
   "cell_type": "code",
   "execution_count": 35,
   "metadata": {},
   "outputs": [],
   "source": [
    "x1 = df['cylindree']\n",
    "x2 = df['conso']\n",
    "y = df['puissance']"
   ]
  },
  {
   "cell_type": "code",
   "execution_count": 37,
   "metadata": {},
   "outputs": [
    {
     "name": "stdout",
     "output_type": "stream",
     "text": [
      "                            OLS Regression Results                            \n",
      "==============================================================================\n",
      "Dep. Variable:                      y   R-squared:                       0.946\n",
      "Model:                            OLS   Adj. R-squared:                  0.942\n",
      "Method:                 Least Squares   F-statistic:                     243.6\n",
      "Date:                Mon, 07 Dec 2020   Prob (F-statistic):           1.97e-18\n",
      "Time:                        13:18:37   Log-Likelihood:                -129.75\n",
      "No. Observations:                  31   AIC:                             265.5\n",
      "Df Residuals:                      28   BIC:                             269.8\n",
      "Df Model:                           2                                         \n",
      "Covariance Type:            nonrobust                                         \n",
      "==============================================================================\n",
      "                 coef    std err          t      P>|t|      [0.025      0.975]\n",
      "------------------------------------------------------------------------------\n",
      "Intercept    -54.8222     11.612     -4.721      0.000     -78.607     -31.037\n",
      "x1             0.0347      0.008      4.433      0.000       0.019       0.051\n",
      "x2             7.9570      2.529      3.146      0.004       2.776      13.138\n",
      "==============================================================================\n",
      "Omnibus:                        7.269   Durbin-Watson:                   1.909\n",
      "Prob(Omnibus):                  0.026   Jarque-Bera (JB):                8.157\n",
      "Skew:                           0.473   Prob(JB):                       0.0169\n",
      "Kurtosis:                       5.328   Cond. No.                     9.35e+03\n",
      "==============================================================================\n",
      "\n",
      "Warnings:\n",
      "[1] Standard Errors assume that the covariance matrix of the errors is correctly specified.\n",
      "[2] The condition number is large, 9.35e+03. This might indicate that there are\n",
      "strong multicollinearity or other numerical problems.\n"
     ]
    }
   ],
   "source": [
    "#Model\n",
    "\n",
    "modelMulti = ols('y ~ x1 + x2', data=df).fit()\n",
    "print(modelMulti.summary())"
   ]
  },
  {
   "cell_type": "code",
   "execution_count": 38,
   "metadata": {},
   "outputs": [
    {
     "data": {
      "text/plain": [
       "Intercept   -54.822171\n",
       "x1            0.034728\n",
       "x2            7.956969\n",
       "dtype: float64"
      ]
     },
     "execution_count": 38,
     "metadata": {},
     "output_type": "execute_result"
    }
   ],
   "source": [
    "# Les coeficients\n",
    "    \n",
    "modelMulti.params\n",
    "modelMulti.mse_resid"
   ]
  },
  {
   "cell_type": "code",
   "execution_count": 39,
   "metadata": {},
   "outputs": [
    {
     "data": {
      "text/plain": [
       "280.0253496226268"
      ]
     },
     "execution_count": 39,
     "metadata": {},
     "output_type": "execute_result"
    }
   ],
   "source": [
    "modelMulti.mse_resid"
   ]
  },
  {
   "cell_type": "code",
   "execution_count": null,
   "metadata": {},
   "outputs": [],
   "source": []
  }
 ],
 "metadata": {
  "kernelspec": {
   "display_name": "Python 3",
   "language": "python",
   "name": "python3"
  },
  "language_info": {
   "codemirror_mode": {
    "name": "ipython",
    "version": 3
   },
   "file_extension": ".py",
   "mimetype": "text/x-python",
   "name": "python",
   "nbconvert_exporter": "python",
   "pygments_lexer": "ipython3",
   "version": "3.8.3"
  },
  "widgets": {
   "application/vnd.jupyter.widget-state+json": {
    "state": {},
    "version_major": 2,
    "version_minor": 0
   }
  }
 },
 "nbformat": 4,
 "nbformat_minor": 4
}
